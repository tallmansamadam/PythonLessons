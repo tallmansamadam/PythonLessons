{
  "metadata": {
    "kernelspec": {
      "name": "python",
      "display_name": "Python (Pyodide)",
      "language": "python"
    },
    "language_info": {
      "codemirror_mode": {
        "name": "python",
        "version": 3
      },
      "file_extension": ".py",
      "mimetype": "text/x-python",
      "name": "python",
      "nbconvert_exporter": "python",
      "pygments_lexer": "ipython3",
      "version": "3.8"
    }
  },
  "nbformat_minor": 5,
  "nbformat": 4,
  "cells": [
    {
      "cell_type": "markdown",
      "source": "## Python Tutorial: Basics of Computer Memory and Discrete Math for Beginner Programming",
      "metadata": {
        "trusted": true
      },
      "id": "61b9f56a"
    },
    {
      "cell_type": "markdown",
      "source": "## 1. Computer Memory\n\nComputer memory is an essential component of any computer system. It stores data and instructions used by the CPU (Central Processing Unit) to perform tasks. There are two main types of memory:\n\nRAM (Random Access Memory): This is temporary memory that stores data while the computer is running. RAM is volatile, meaning that it loses its content when the computer is powered off.\n\nROM (Read Only Memory): This is permanent memory that contains data and instructions required for the computer to boot up and function. Unlike RAM, ROM is non-volatile and retains its content even when the computer is powered off.",
      "metadata": {
        "trusted": true
      },
      "id": "eb8f29fb"
    },
    {
      "cell_type": "markdown",
      "source": "Creating a Music-themed Variable (run the below code by clicking or arrow-ing to the cell, and hit either (shift + enter) or (ctrl + enter))",
      "metadata": {
        "trusted": true
      },
      "id": "7ce93192"
    },
    {
      "cell_type": "code",
      "source": "# This is a comment. It's any part preceded by a #, and the computer won't run it.\n# It's mostly to help programmers write notes and document code chunks\nsong_duration = 180  # Duration in seconds\nsong_duration",
      "metadata": {
        "trusted": true
      },
      "execution_count": 1,
      "outputs": [
        {
          "execution_count": 1,
          "output_type": "execute_result",
          "data": {
            "text/plain": [
              "180"
            ]
          },
          "metadata": {}
        }
      ],
      "id": "a65a959a"
    },
    {
      "cell_type": "markdown",
      "source": "Above, we output the value of the variable by just writing the name of it below the assignment, and executing the cell; however, this only works in a notebook like this. If you want to output that \"song_duration\" variable in a regular python program, you do it like so:",
      "metadata": {
        "trusted": true
      },
      "id": "641b7ebf"
    },
    {
      "cell_type": "code",
      "source": "print(song_duration)",
      "metadata": {
        "trusted": true
      },
      "execution_count": 2,
      "outputs": [
        {
          "name": "stdout",
          "output_type": "stream",
          "text": "180\n"
        }
      ],
      "id": "76d59258"
    },
    {
      "cell_type": "markdown",
      "source": "This is called a function call. Basically, there are a lot of pre-made tools in coding that do most of the hard stuff for us. If we wrote this in something like C++ instead of modern Python, it would look like this mess (won't execute, because this notebook is setup for python, not C++):",
      "metadata": {
        "trusted": true
      },
      "id": "18237275"
    },
    {
      "cell_type": "code",
      "source": "std::cout << song_duration << std::endl;",
      "metadata": {
        "trusted": true
      },
      "execution_count": 3,
      "outputs": [
        {
          "ename": "SyntaxError",
          "evalue": "invalid syntax (1024941744.py, line 1)",
          "output_type": "error",
          "traceback": [
            "\u001b[1;36m  Cell \u001b[1;32mIn[3], line 1\u001b[1;36m\u001b[0m\n\u001b[1;33m    std::cout << song_duration << std::endl;\u001b[0m\n\u001b[1;37m        ^\u001b[0m\n\u001b[1;31mSyntaxError\u001b[0m\u001b[1;31m:\u001b[0m invalid syntax\n"
          ]
        }
      ],
      "id": "7eb90db2"
    },
    {
      "cell_type": "markdown",
      "source": "Now, since it's a variable, which is a place in the computer's RAM cut out for this program, we can alter the variable, and print the same \"print\" call and it'll reflect the change. Think of the variable as a box in a warehouse, and the contents are the number or value we store in it, but we also carve a name or designator on that box so we can keep track of it and find it when we need it's contents. But we find it by that name on the outside, not the contents inside, because just like a box in a warehouse, we can't see what's inside without finding the box first.",
      "metadata": {
        "trusted": true
      },
      "id": "c8bc0076"
    },
    {
      "cell_type": "code",
      "source": "song_duration += 30\nprint(song_duration)",
      "metadata": {
        "trusted": true
      },
      "execution_count": 4,
      "outputs": [
        {
          "name": "stdout",
          "output_type": "stream",
          "text": "210\n"
        }
      ],
      "id": "ac8abcd6"
    },
    {
      "cell_type": "markdown",
      "source": "Now, that '+=' operator probably looks weird, but it's just a shortcut for the expression below:",
      "metadata": {
        "trusted": true
      },
      "id": "6a854148"
    },
    {
      "cell_type": "code",
      "source": "song_duration = song_duration + 30\nprint(song_duration)",
      "metadata": {
        "trusted": true
      },
      "execution_count": 5,
      "outputs": [
        {
          "name": "stdout",
          "output_type": "stream",
          "text": "240\n"
        }
      ],
      "id": "59a96bc2"
    },
    {
      "cell_type": "markdown",
      "source": "You may have noticed just now that the variable \"song_duration\" didn't output the same value as it just did above (if you're executing these in order without back-tracking and re-executing cells, that is). \n\nThat's because, again, that variable is a place in memory. The first += updated 180 to 210 by adding 30, and the song_duration + 30 updated that same place in memory by adding 30, only the place in memory was now holding 210 instead of 180 because we already did work on that variable (i.e. place in memory).\n\nIn programming, we do have a lot of cases where the memory update doesn't stick unless we tell it to though. Like, if we run this line, and then print the variable song_duration again, nothing will happen, because we had the computer perform the operation on that place in memory, but we didn't tell it to update it by saving it with a reassignment (either '=', '+=', or '-=').",
      "metadata": {
        "trusted": true
      },
      "id": "06e97d96"
    },
    {
      "cell_type": "code",
      "source": "song_duration + 30\nprint(song_duration)",
      "metadata": {
        "trusted": true
      },
      "execution_count": 6,
      "outputs": [
        {
          "name": "stdout",
          "output_type": "stream",
          "text": "240\n"
        }
      ],
      "id": "3ae56efb"
    },
    {
      "cell_type": "markdown",
      "source": "## 2. Discrete Math",
      "metadata": {
        "trusted": true
      },
      "id": "56649e90"
    },
    {
      "cell_type": "markdown",
      "source": "Discrete math deals with countable, distinct sets of objects or values. It is essential in computer science, as computers work with discrete values (like integers or binary digits) rather than continuous values.\n\n## Sets\nA set is a collection of distinct elements. In Python, you can represent sets using the set data structure. Let's create a set of musical notes:",
      "metadata": {
        "trusted": true
      },
      "id": "7a51aec1"
    },
    {
      "cell_type": "code",
      "source": "musical_notes = {\"C\", \"D\", \"E\", \"F\", \"G\", \"A\", \"B\"}\nprint(musical_notes)",
      "metadata": {
        "trusted": true
      },
      "execution_count": 7,
      "outputs": [
        {
          "name": "stdout",
          "output_type": "stream",
          "text": "{'F', 'C', 'G', 'E', 'D', 'B', 'A'}\n"
        }
      ],
      "id": "83de5c82"
    },
    {
      "cell_type": "markdown",
      "source": "## Functions\nA function is a relation that maps input values to output values. In Python, you can define functions using the def keyword. Let's create a simplified function that calculates the frequency of a musical note:\n",
      "metadata": {
        "trusted": true
      },
      "id": "d894579a"
    },
    {
      "cell_type": "code",
      "source": "def frequency_of_note(note):\n    if note == \"A\":\n        return 440\n    elif note == \"B\":\n        return 494\n    elif note == \"C\":\n        return 523\n    elif note == \"D\":\n        return 587\n    elif note == \"E\":\n        return 659\n    elif note == \"F\":\n        return 698\n    elif note == \"G\":\n        return 784\n    else:\n        return None\n\nnote = \"C\"\nnote_frequency = frequency_of_note(note)\nprint(f\"The frequency of {note} is {note_frequency} Hz\")",
      "metadata": {
        "trusted": true
      },
      "execution_count": 8,
      "outputs": [
        {
          "name": "stdout",
          "output_type": "stream",
          "text": "The frequency of C is 523 Hz\n"
        }
      ],
      "id": "c5ad714e"
    },
    {
      "cell_type": "markdown",
      "source": "The function frequency_of_note takes a musical note as input and returns its approximate frequency in Hz. You can now use this function to find the frequency of any musical note in the set musical_notes.\n\n(Note, that in this format for what we call a \"string\" of text, they start it with 'f'. This is only needed if you're using a variable value in the flow of that string. So print(\"Hello World\"), would not require an 'f' prefix. But using this allows us to insert variables within {} in the flow of the string output. This is useful when looping through a lot of lines of data and wanting the loop to output it in a certain statement, like:\n\nThe frequency of C is 523 Hz\nThe frequency of G is 784 Hz\nThe frequency of D is 587 Hz\nThe frequency of A is 440 Hz\netc.",
      "metadata": {
        "trusted": true
      },
      "id": "3a8ac7a0"
    },
    {
      "cell_type": "code",
      "source": "circle_of_fifths = ['C', 'G', 'D', 'A', 'E', 'B', 'F']\nfor note in circle_of_fifths:\n    note_frequency = frequency_of_note(note)\n    print(f\"The frequency of {note} is {note_frequency} Hz\")",
      "metadata": {
        "trusted": true
      },
      "execution_count": 9,
      "outputs": [
        {
          "name": "stdout",
          "output_type": "stream",
          "text": "The frequency of C is 523 Hz\n\nThe frequency of G is 784 Hz\n\nThe frequency of D is 587 Hz\n\nThe frequency of A is 440 Hz\n\nThe frequency of E is 659 Hz\n\nThe frequency of B is 494 Hz\n\nThe frequency of F is 698 Hz\n"
        }
      ],
      "id": "e460beaa"
    },
    {
      "cell_type": "markdown",
      "source": "## 3. Data Structures",
      "metadata": {
        "trusted": true
      },
      "id": "6d8ec6a5"
    },
    {
      "cell_type": "markdown",
      "source": "ata structures are ways to organize and store data in a computer's memory. Python provides built-in data structures like lists, dictionaries, and sets. Let's explore them using a music theme.\n\n## Lists\nA list is an ordered collection of elements. You can store multiple items in a list and access them using their index. Let's create a list of popular genres:",
      "metadata": {
        "trusted": true
      },
      "id": "5bee7c8e"
    },
    {
      "cell_type": "code",
      "source": "music_genres = [\"Rock\", \"Pop\", \"Hip-Hop\", \"Jazz\", \"Classical\"]\nprint(music_genres)",
      "metadata": {
        "trusted": true
      },
      "execution_count": 10,
      "outputs": [
        {
          "name": "stdout",
          "output_type": "stream",
          "text": "['Rock', 'Pop', 'Hip-Hop', 'Jazz', 'Classical']\n"
        }
      ],
      "id": "a4440f37"
    },
    {
      "cell_type": "markdown",
      "source": "To access an element in the list, use its index:",
      "metadata": {
        "trusted": true
      },
      "id": "2050ce3e"
    },
    {
      "cell_type": "code",
      "source": "first_genre = music_genres[0]\nprint(f\"The first genre in the list is {first_genre}\")",
      "metadata": {
        "trusted": true
      },
      "execution_count": 11,
      "outputs": [
        {
          "name": "stdout",
          "output_type": "stream",
          "text": "The first genre in the list is Rock\n"
        }
      ],
      "id": "2bef3f6b"
    },
    {
      "cell_type": "markdown",
      "source": "The index was something I covered in the 'software\\ lessons.txt' file I sent.",
      "metadata": {
        "trusted": true
      },
      "id": "e3ecb500"
    },
    {
      "cell_type": "markdown",
      "source": "## Dictionaries\nA dictionary is a collection of key-value pairs. You can store data as key-value pairs and access the values using their keys. Let's create a dictionary of instruments and their families:",
      "metadata": {
        "trusted": true
      },
      "id": "5c99ddb3"
    },
    {
      "cell_type": "code",
      "source": "instruments = {\"Guitar\": \"Strings\", \"Drums\": \"Percussion\", \"Trumpet\": \"Brass\", \"Flute\": \"Woodwind\"}\nprint(instruments)",
      "metadata": {
        "trusted": true
      },
      "execution_count": 12,
      "outputs": [
        {
          "name": "stdout",
          "output_type": "stream",
          "text": "{'Guitar': 'Strings', 'Drums': 'Percussion', 'Trumpet': 'Brass', 'Flute': 'Woodwind'}\n"
        }
      ],
      "id": "7347fc91"
    },
    {
      "cell_type": "markdown",
      "source": "To access the value associated with a key, use the key:",
      "metadata": {
        "trusted": true
      },
      "id": "35b7994f"
    },
    {
      "cell_type": "code",
      "source": "guitar_family = instruments[\"Guitar\"]\nprint(f\"The guitar belongs to the {guitar_family} family\")",
      "metadata": {
        "trusted": true
      },
      "execution_count": 13,
      "outputs": [
        {
          "name": "stdout",
          "output_type": "stream",
          "text": "The guitar belongs to the Strings family\n"
        }
      ],
      "id": "02905f6b"
    },
    {
      "cell_type": "markdown",
      "source": "## 4. Conditional Statements",
      "metadata": {
        "trusted": true
      },
      "id": "22190836"
    },
    {
      "cell_type": "markdown",
      "source": "Conditional statements allow you to execute code based on certain conditions. The if, elif, and else keywords are used to create conditional statements in Python. Let's create a simple function that tells you if a song is short, average, or long based on its duration:",
      "metadata": {
        "trusted": true
      },
      "id": "19c5f8ea"
    },
    {
      "cell_type": "code",
      "source": "def song_length(duration):\n    if duration < 180:\n        return \"short\"\n    elif duration >= 180 and duration < 300:\n        return \"average\"\n    else:\n        return \"long\"\n\nsong_duration = 200\nsong_length_description = song_length(song_duration)\nprint(f\"The song with a duration of {song_duration} seconds is {song_length_description}.\")",
      "metadata": {
        "trusted": true
      },
      "execution_count": 14,
      "outputs": [
        {
          "name": "stdout",
          "output_type": "stream",
          "text": "The song with a duration of 200 seconds is average.\n"
        }
      ],
      "id": "6835c947"
    },
    {
      "cell_type": "markdown",
      "source": "## 5. Loops\nLoops are used to repeat a block of code multiple times. In Python, you can use for loops to iterate over a sequence, like a list or a range of numbers. Let's iterate over the music_genres list and print each genre:",
      "metadata": {
        "trusted": true
      },
      "id": "577b80b9"
    },
    {
      "cell_type": "code",
      "source": "for genre in music_genres:\n    print(genre)",
      "metadata": {
        "trusted": true
      },
      "execution_count": 15,
      "outputs": [
        {
          "name": "stdout",
          "output_type": "stream",
          "text": "Rock\n\nPop\n\nHip-Hop\n\nJazz\n\nClassical\n"
        }
      ],
      "id": "28917e71"
    },
    {
      "cell_type": "markdown",
      "source": "You can also use while loops to repeat code as long as a condition is true. Let's create a loop that prints the first five numbers of the Fibonacci sequence:",
      "metadata": {
        "trusted": true
      },
      "id": "e4666235"
    },
    {
      "cell_type": "code",
      "source": "a, b = 0, 1\ncount = 0\n\nprint(\"First 5 numbers of the Fibonacci sequence:\")\nwhile count < 5:\n    print(a)\n    a, b = b, a + b\n    count += 1\n",
      "metadata": {
        "trusted": true
      },
      "execution_count": 16,
      "outputs": [
        {
          "name": "stdout",
          "output_type": "stream",
          "text": "First 5 numbers of the Fibonacci sequence:\n\n0\n\n1\n\n1\n\n2\n\n3\n"
        }
      ],
      "id": "c3cc748d"
    },
    {
      "cell_type": "markdown",
      "source": "These concepts form the foundation of programming in Python. Practice using variables, data structures, functions, conditional statements, and loops to become more comfortable with the language. Happy coding!",
      "metadata": {
        "trusted": true
      },
      "id": "e1e1ce6b"
    }
  ]
}