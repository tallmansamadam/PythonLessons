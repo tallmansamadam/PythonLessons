{
 "cells": [
  {
   "cell_type": "markdown",
   "id": "61b9f56a",
   "metadata": {},
   "source": [
    "## Python Tutorial: Basics of Computer Memory and Discrete Math for Beginner Programming"
   ]
  },
  {
   "cell_type": "code",
   "execution_count": 1,
   "id": "a4c7b9ab",
   "metadata": {},
   "outputs": [
    {
     "name": "stdout",
     "output_type": "stream",
     "text": [
      "Requirement already satisfied: nbconvert[webpdf] in c:\\users\\tallm\\codeprojectsalpha\\sample-project\\env\\lib\\site-packages (7.2.10)\n",
      "Requirement already satisfied: jupyter-core>=4.7 in c:\\users\\tallm\\codeprojectsalpha\\sample-project\\env\\lib\\site-packages (from nbconvert[webpdf]) (5.3.0)\n",
      "Requirement already satisfied: bleach in c:\\users\\tallm\\codeprojectsalpha\\sample-project\\env\\lib\\site-packages (from nbconvert[webpdf]) (6.0.0)\n",
      "Requirement already satisfied: tinycss2 in c:\\users\\tallm\\codeprojectsalpha\\sample-project\\env\\lib\\site-packages (from nbconvert[webpdf]) (1.2.1)\n",
      "Requirement already satisfied: mistune<3,>=2.0.3 in c:\\users\\tallm\\codeprojectsalpha\\sample-project\\env\\lib\\site-packages (from nbconvert[webpdf]) (2.0.5)\n",
      "Requirement already satisfied: beautifulsoup4 in c:\\users\\tallm\\codeprojectsalpha\\sample-project\\env\\lib\\site-packages (from nbconvert[webpdf]) (4.11.2)\n",
      "Requirement already satisfied: traitlets>=5.0 in c:\\users\\tallm\\codeprojectsalpha\\sample-project\\env\\lib\\site-packages (from nbconvert[webpdf]) (5.9.0)\n",
      "Requirement already satisfied: jupyterlab-pygments in c:\\users\\tallm\\codeprojectsalpha\\sample-project\\env\\lib\\site-packages (from nbconvert[webpdf]) (0.2.2)\n",
      "Requirement already satisfied: jinja2>=3.0 in c:\\users\\tallm\\codeprojectsalpha\\sample-project\\env\\lib\\site-packages (from nbconvert[webpdf]) (3.1.2)\n",
      "Requirement already satisfied: pandocfilters>=1.4.1 in c:\\users\\tallm\\codeprojectsalpha\\sample-project\\env\\lib\\site-packages (from nbconvert[webpdf]) (1.5.0)\n",
      "Requirement already satisfied: packaging in c:\\users\\tallm\\codeprojectsalpha\\sample-project\\env\\lib\\site-packages (from nbconvert[webpdf]) (23.0)\n",
      "Requirement already satisfied: defusedxml in c:\\users\\tallm\\codeprojectsalpha\\sample-project\\env\\lib\\site-packages (from nbconvert[webpdf]) (0.7.1)\n",
      "Requirement already satisfied: nbformat>=5.1 in c:\\users\\tallm\\codeprojectsalpha\\sample-project\\env\\lib\\site-packages (from nbconvert[webpdf]) (5.7.3)\n",
      "Requirement already satisfied: pygments>=2.4.1 in c:\\users\\tallm\\codeprojectsalpha\\sample-project\\env\\lib\\site-packages (from nbconvert[webpdf]) (2.14.0)\n",
      "Requirement already satisfied: nbclient>=0.5.0 in c:\\users\\tallm\\codeprojectsalpha\\sample-project\\env\\lib\\site-packages (from nbconvert[webpdf]) (0.7.2)\n",
      "Requirement already satisfied: markupsafe>=2.0 in c:\\users\\tallm\\codeprojectsalpha\\sample-project\\env\\lib\\site-packages (from nbconvert[webpdf]) (2.1.2)\n",
      "Requirement already satisfied: pyppeteer<1.1,>=1 in c:\\users\\tallm\\codeprojectsalpha\\sample-project\\env\\lib\\site-packages (from nbconvert[webpdf]) (1.0.2)\n",
      "Requirement already satisfied: platformdirs>=2.5 in c:\\users\\tallm\\codeprojectsalpha\\sample-project\\env\\lib\\site-packages (from jupyter-core>=4.7->nbconvert[webpdf]) (3.1.1)\n",
      "Requirement already satisfied: pywin32>=300 in c:\\users\\tallm\\codeprojectsalpha\\sample-project\\env\\lib\\site-packages (from jupyter-core>=4.7->nbconvert[webpdf]) (305)\n",
      "Requirement already satisfied: jupyter-client>=6.1.12 in c:\\users\\tallm\\codeprojectsalpha\\sample-project\\env\\lib\\site-packages (from nbclient>=0.5.0->nbconvert[webpdf]) (8.0.3)\n",
      "Requirement already satisfied: fastjsonschema in c:\\users\\tallm\\codeprojectsalpha\\sample-project\\env\\lib\\site-packages (from nbformat>=5.1->nbconvert[webpdf]) (2.16.3)\n",
      "Requirement already satisfied: jsonschema>=2.6 in c:\\users\\tallm\\codeprojectsalpha\\sample-project\\env\\lib\\site-packages (from nbformat>=5.1->nbconvert[webpdf]) (4.17.3)\n",
      "Requirement already satisfied: tqdm<5.0.0,>=4.42.1 in c:\\users\\tallm\\codeprojectsalpha\\sample-project\\env\\lib\\site-packages (from pyppeteer<1.1,>=1->nbconvert[webpdf]) (4.65.0)\n",
      "Requirement already satisfied: certifi>=2021 in c:\\users\\tallm\\codeprojectsalpha\\sample-project\\env\\lib\\site-packages (from pyppeteer<1.1,>=1->nbconvert[webpdf]) (2022.12.7)\n",
      "Requirement already satisfied: appdirs<2.0.0,>=1.4.3 in c:\\users\\tallm\\codeprojectsalpha\\sample-project\\env\\lib\\site-packages (from pyppeteer<1.1,>=1->nbconvert[webpdf]) (1.4.4)\n",
      "Requirement already satisfied: websockets<11.0,>=10.0 in c:\\users\\tallm\\codeprojectsalpha\\sample-project\\env\\lib\\site-packages (from pyppeteer<1.1,>=1->nbconvert[webpdf]) (10.4)\n",
      "Requirement already satisfied: pyee<9.0.0,>=8.1.0 in c:\\users\\tallm\\codeprojectsalpha\\sample-project\\env\\lib\\site-packages (from pyppeteer<1.1,>=1->nbconvert[webpdf]) (8.2.2)\n",
      "Requirement already satisfied: importlib-metadata>=1.4 in c:\\users\\tallm\\codeprojectsalpha\\sample-project\\env\\lib\\site-packages (from pyppeteer<1.1,>=1->nbconvert[webpdf]) (6.1.0)\n",
      "Requirement already satisfied: urllib3<2.0.0,>=1.25.8 in c:\\users\\tallm\\codeprojectsalpha\\sample-project\\env\\lib\\site-packages (from pyppeteer<1.1,>=1->nbconvert[webpdf]) (1.26.14)\n",
      "Requirement already satisfied: soupsieve>1.2 in c:\\users\\tallm\\codeprojectsalpha\\sample-project\\env\\lib\\site-packages (from beautifulsoup4->nbconvert[webpdf]) (2.4)\n",
      "Requirement already satisfied: six>=1.9.0 in c:\\users\\tallm\\codeprojectsalpha\\sample-project\\env\\lib\\site-packages (from bleach->nbconvert[webpdf]) (1.16.0)\n",
      "Requirement already satisfied: webencodings in c:\\users\\tallm\\codeprojectsalpha\\sample-project\\env\\lib\\site-packages (from bleach->nbconvert[webpdf]) (0.5.1)\n",
      "Requirement already satisfied: zipp>=0.5 in c:\\users\\tallm\\codeprojectsalpha\\sample-project\\env\\lib\\site-packages (from importlib-metadata>=1.4->pyppeteer<1.1,>=1->nbconvert[webpdf]) (3.15.0)\n",
      "Requirement already satisfied: pyrsistent!=0.17.0,!=0.17.1,!=0.17.2,>=0.14.0 in c:\\users\\tallm\\codeprojectsalpha\\sample-project\\env\\lib\\site-packages (from jsonschema>=2.6->nbformat>=5.1->nbconvert[webpdf]) (0.19.3)\n",
      "Requirement already satisfied: attrs>=17.4.0 in c:\\users\\tallm\\codeprojectsalpha\\sample-project\\env\\lib\\site-packages (from jsonschema>=2.6->nbformat>=5.1->nbconvert[webpdf]) (22.2.0)\n",
      "Requirement already satisfied: python-dateutil>=2.8.2 in c:\\users\\tallm\\codeprojectsalpha\\sample-project\\env\\lib\\site-packages (from jupyter-client>=6.1.12->nbclient>=0.5.0->nbconvert[webpdf]) (2.8.2)\n",
      "Requirement already satisfied: pyzmq>=23.0 in c:\\users\\tallm\\codeprojectsalpha\\sample-project\\env\\lib\\site-packages (from jupyter-client>=6.1.12->nbclient>=0.5.0->nbconvert[webpdf]) (25.0.1)\n",
      "Requirement already satisfied: tornado>=6.2 in c:\\users\\tallm\\codeprojectsalpha\\sample-project\\env\\lib\\site-packages (from jupyter-client>=6.1.12->nbclient>=0.5.0->nbconvert[webpdf]) (6.2)\n",
      "Requirement already satisfied: colorama in c:\\users\\tallm\\codeprojectsalpha\\sample-project\\env\\lib\\site-packages (from tqdm<5.0.0,>=4.42.1->pyppeteer<1.1,>=1->nbconvert[webpdf]) (0.4.6)\n",
      "Note: you may need to restart the kernel to use updated packages.\n"
     ]
    }
   ],
   "source": [
    "pip install nbconvert[webpdf]"
   ]
  },
  {
   "cell_type": "markdown",
   "id": "eb8f29fb",
   "metadata": {},
   "source": [
    "## 1. Computer Memory\n",
    "\n",
    "Computer memory is an essential component of any computer system. It stores data and instructions used by the CPU (Central Processing Unit) to perform tasks. There are two main types of memory:\n",
    "\n",
    "RAM (Random Access Memory): This is temporary memory that stores data while the computer is running. RAM is volatile, meaning that it loses its content when the computer is powered off.\n",
    "\n",
    "ROM (Read Only Memory): This is permanent memory that contains data and instructions required for the computer to boot up and function. Unlike RAM, ROM is non-volatile and retains its content even when the computer is powered off."
   ]
  },
  {
   "cell_type": "markdown",
   "id": "7ce93192",
   "metadata": {},
   "source": [
    "Creating a Music-themed Variable (run the below code by clicking or arrow-ing to the cell, and hit either (shift + enter) or (ctrl + enter))"
   ]
  },
  {
   "cell_type": "code",
   "execution_count": 1,
   "id": "a65a959a",
   "metadata": {},
   "outputs": [
    {
     "data": {
      "text/plain": [
       "180"
      ]
     },
     "execution_count": 1,
     "metadata": {},
     "output_type": "execute_result"
    }
   ],
   "source": [
    "# This is a comment. It's any part preceded by a #, and the computer won't run it.\n",
    "# It's mostly to help programmers write notes and document code chunks\n",
    "song_duration = 180  # Duration in seconds\n",
    "song_duration"
   ]
  },
  {
   "cell_type": "markdown",
   "id": "641b7ebf",
   "metadata": {},
   "source": [
    "Above, we output the value of the variable by just writing the name of it below the assignment, and executing the cell; however, this only works in a notebook like this. If you want to output that \"song_duration\" variable in a regular python program, you do it like so:"
   ]
  },
  {
   "cell_type": "code",
   "execution_count": 2,
   "id": "76d59258",
   "metadata": {},
   "outputs": [
    {
     "name": "stdout",
     "output_type": "stream",
     "text": [
      "180\n"
     ]
    }
   ],
   "source": [
    "print(song_duration)"
   ]
  },
  {
   "cell_type": "markdown",
   "id": "18237275",
   "metadata": {},
   "source": [
    "This is called a function call. Basically, there are a lot of pre-made tools in coding that do most of the hard stuff for us. If we wrote this in something like C++ instead of modern Python, it would look like this mess (won't execute, because this notebook is setup for python, not C++):"
   ]
  },
  {
   "cell_type": "code",
   "execution_count": 3,
   "id": "7eb90db2",
   "metadata": {},
   "outputs": [
    {
     "ename": "SyntaxError",
     "evalue": "invalid syntax (1024941744.py, line 1)",
     "output_type": "error",
     "traceback": [
      "\u001b[1;36m  Cell \u001b[1;32mIn[3], line 1\u001b[1;36m\u001b[0m\n\u001b[1;33m    std::cout << song_duration << std::endl;\u001b[0m\n\u001b[1;37m        ^\u001b[0m\n\u001b[1;31mSyntaxError\u001b[0m\u001b[1;31m:\u001b[0m invalid syntax\n"
     ]
    }
   ],
   "source": [
    "std::cout << song_duration << std::endl;"
   ]
  },
  {
   "cell_type": "markdown",
   "id": "c8bc0076",
   "metadata": {},
   "source": [
    "Now, since it's a variable, which is a place in the computer's RAM cut out for this program, we can alter the variable, and print the same \"print\" call and it'll reflect the change. Think of the variable as a box in a warehouse, and the contents are the number or value we store in it, but we also carve a name or designator on that box so we can keep track of it and find it when we need it's contents. But we find it by that name on the outside, not the contents inside, because just like a box in a warehouse, we can't see what's inside without finding the box first."
   ]
  },
  {
   "cell_type": "code",
   "execution_count": 4,
   "id": "ac8abcd6",
   "metadata": {},
   "outputs": [
    {
     "name": "stdout",
     "output_type": "stream",
     "text": [
      "210\n"
     ]
    }
   ],
   "source": [
    "song_duration += 30\n",
    "print(song_duration)"
   ]
  },
  {
   "cell_type": "markdown",
   "id": "6a854148",
   "metadata": {},
   "source": [
    "Now, that '+=' operator probably looks weird, but it's just a shortcut for the expression below:"
   ]
  },
  {
   "cell_type": "code",
   "execution_count": 5,
   "id": "59a96bc2",
   "metadata": {},
   "outputs": [
    {
     "name": "stdout",
     "output_type": "stream",
     "text": [
      "240\n"
     ]
    }
   ],
   "source": [
    "song_duration = song_duration + 30\n",
    "print(song_duration)"
   ]
  },
  {
   "cell_type": "markdown",
   "id": "06e97d96",
   "metadata": {},
   "source": [
    "You may have noticed just now that the variable \"song_duration\" didn't output the same value as it just did above (if you're executing these in order without back-tracking and re-executing cells, that is). \n",
    "\n",
    "That's because, again, that variable is a place in memory. The first += updated 180 to 210 by adding 30, and the song_duration + 30 updated that same place in memory by adding 30, only the place in memory was now holding 210 instead of 180 because we already did work on that variable (i.e. place in memory).\n",
    "\n",
    "In programming, we do have a lot of cases where the memory update doesn't stick unless we tell it to though. Like, if we run this line, and then print the variable song_duration again, nothing will happen, because we had the computer perform the operation on that place in memory, but we didn't tell it to update it by saving it with a reassignment (either '=', '+=', or '-=')."
   ]
  },
  {
   "cell_type": "code",
   "execution_count": 6,
   "id": "3ae56efb",
   "metadata": {},
   "outputs": [
    {
     "name": "stdout",
     "output_type": "stream",
     "text": [
      "240\n"
     ]
    }
   ],
   "source": [
    "song_duration + 30\n",
    "print(song_duration)"
   ]
  },
  {
   "cell_type": "markdown",
   "id": "56649e90",
   "metadata": {},
   "source": [
    "## 2. Discrete Math"
   ]
  },
  {
   "cell_type": "markdown",
   "id": "7a51aec1",
   "metadata": {},
   "source": [
    "Discrete math deals with countable, distinct sets of objects or values. It is essential in computer science, as computers work with discrete values (like integers or binary digits) rather than continuous values.\n",
    "\n",
    "## Sets\n",
    "A set is a collection of distinct elements. In Python, you can represent sets using the set data structure. Let's create a set of musical notes:"
   ]
  },
  {
   "cell_type": "code",
   "execution_count": 7,
   "id": "83de5c82",
   "metadata": {},
   "outputs": [
    {
     "name": "stdout",
     "output_type": "stream",
     "text": [
      "{'F', 'C', 'G', 'E', 'D', 'B', 'A'}\n"
     ]
    }
   ],
   "source": [
    "musical_notes = {\"C\", \"D\", \"E\", \"F\", \"G\", \"A\", \"B\"}\n",
    "print(musical_notes)"
   ]
  },
  {
   "cell_type": "markdown",
   "id": "d894579a",
   "metadata": {},
   "source": [
    "## Functions\n",
    "A function is a relation that maps input values to output values. In Python, you can define functions using the def keyword. Let's create a simplified function that calculates the frequency of a musical note:\n"
   ]
  },
  {
   "cell_type": "code",
   "execution_count": 8,
   "id": "c5ad714e",
   "metadata": {},
   "outputs": [
    {
     "name": "stdout",
     "output_type": "stream",
     "text": [
      "The frequency of C is 523 Hz\n"
     ]
    }
   ],
   "source": [
    "def frequency_of_note(note):\n",
    "    if note == \"A\":\n",
    "        return 440\n",
    "    elif note == \"B\":\n",
    "        return 494\n",
    "    elif note == \"C\":\n",
    "        return 523\n",
    "    elif note == \"D\":\n",
    "        return 587\n",
    "    elif note == \"E\":\n",
    "        return 659\n",
    "    elif note == \"F\":\n",
    "        return 698\n",
    "    elif note == \"G\":\n",
    "        return 784\n",
    "    else:\n",
    "        return None\n",
    "\n",
    "note = \"C\"\n",
    "note_frequency = frequency_of_note(note)\n",
    "print(f\"The frequency of {note} is {note_frequency} Hz\")"
   ]
  },
  {
   "cell_type": "markdown",
   "id": "3a8ac7a0",
   "metadata": {},
   "source": [
    "The function frequency_of_note takes a musical note as input and returns its approximate frequency in Hz. You can now use this function to find the frequency of any musical note in the set musical_notes.\n",
    "\n",
    "(Note, that in this format for what we call a \"string\" of text, they start it with 'f'. This is only needed if you're using a variable value in the flow of that string. So print(\"Hello World\"), would not require an 'f' prefix. But using this allows us to insert variables within {} in the flow of the string output. This is useful when looping through a lot of lines of data and wanting the loop to output it in a certain statement, like:\n",
    "\n",
    "The frequency of C is 523 Hz\n",
    "The frequency of G is 784 Hz\n",
    "The frequency of D is 587 Hz\n",
    "The frequency of A is 440 Hz\n",
    "etc."
   ]
  },
  {
   "cell_type": "code",
   "execution_count": 9,
   "id": "e460beaa",
   "metadata": {},
   "outputs": [
    {
     "name": "stdout",
     "output_type": "stream",
     "text": [
      "The frequency of C is 523 Hz\n",
      "The frequency of G is 784 Hz\n",
      "The frequency of D is 587 Hz\n",
      "The frequency of A is 440 Hz\n",
      "The frequency of E is 659 Hz\n",
      "The frequency of B is 494 Hz\n",
      "The frequency of F is 698 Hz\n"
     ]
    }
   ],
   "source": [
    "circle_of_fifths = ['C', 'G', 'D', 'A', 'E', 'B', 'F']\n",
    "for note in circle_of_fifths:\n",
    "    note_frequency = frequency_of_note(note)\n",
    "    print(f\"The frequency of {note} is {note_frequency} Hz\")"
   ]
  },
  {
   "cell_type": "markdown",
   "id": "6d8ec6a5",
   "metadata": {},
   "source": [
    "## 3. Data Structures"
   ]
  },
  {
   "cell_type": "markdown",
   "id": "5bee7c8e",
   "metadata": {},
   "source": [
    "ata structures are ways to organize and store data in a computer's memory. Python provides built-in data structures like lists, dictionaries, and sets. Let's explore them using a music theme.\n",
    "\n",
    "## Lists\n",
    "A list is an ordered collection of elements. You can store multiple items in a list and access them using their index. Let's create a list of popular genres:"
   ]
  },
  {
   "cell_type": "code",
   "execution_count": 10,
   "id": "a4440f37",
   "metadata": {},
   "outputs": [
    {
     "name": "stdout",
     "output_type": "stream",
     "text": [
      "['Rock', 'Pop', 'Hip-Hop', 'Jazz', 'Classical']\n"
     ]
    }
   ],
   "source": [
    "music_genres = [\"Rock\", \"Pop\", \"Hip-Hop\", \"Jazz\", \"Classical\"]\n",
    "print(music_genres)"
   ]
  },
  {
   "cell_type": "markdown",
   "id": "2050ce3e",
   "metadata": {},
   "source": [
    "To access an element in the list, use its index:"
   ]
  },
  {
   "cell_type": "code",
   "execution_count": 11,
   "id": "2bef3f6b",
   "metadata": {},
   "outputs": [
    {
     "name": "stdout",
     "output_type": "stream",
     "text": [
      "The first genre in the list is Rock\n"
     ]
    }
   ],
   "source": [
    "first_genre = music_genres[0]\n",
    "print(f\"The first genre in the list is {first_genre}\")"
   ]
  },
  {
   "cell_type": "markdown",
   "id": "e3ecb500",
   "metadata": {},
   "source": [
    "The index was something I covered in the 'software\\ lessons.txt' file I sent."
   ]
  },
  {
   "cell_type": "markdown",
   "id": "5c99ddb3",
   "metadata": {},
   "source": [
    "## Dictionaries\n",
    "A dictionary is a collection of key-value pairs. You can store data as key-value pairs and access the values using their keys. Let's create a dictionary of instruments and their families:"
   ]
  },
  {
   "cell_type": "code",
   "execution_count": 12,
   "id": "7347fc91",
   "metadata": {},
   "outputs": [
    {
     "name": "stdout",
     "output_type": "stream",
     "text": [
      "{'Guitar': 'Strings', 'Drums': 'Percussion', 'Trumpet': 'Brass', 'Flute': 'Woodwind'}\n"
     ]
    }
   ],
   "source": [
    "instruments = {\"Guitar\": \"Strings\", \"Drums\": \"Percussion\", \"Trumpet\": \"Brass\", \"Flute\": \"Woodwind\"}\n",
    "print(instruments)"
   ]
  },
  {
   "cell_type": "markdown",
   "id": "35b7994f",
   "metadata": {},
   "source": [
    "To access the value associated with a key, use the key:"
   ]
  },
  {
   "cell_type": "code",
   "execution_count": 13,
   "id": "02905f6b",
   "metadata": {},
   "outputs": [
    {
     "name": "stdout",
     "output_type": "stream",
     "text": [
      "The guitar belongs to the Strings family\n"
     ]
    }
   ],
   "source": [
    "guitar_family = instruments[\"Guitar\"]\n",
    "print(f\"The guitar belongs to the {guitar_family} family\")"
   ]
  },
  {
   "cell_type": "markdown",
   "id": "22190836",
   "metadata": {},
   "source": [
    "## 4. Conditional Statements"
   ]
  },
  {
   "cell_type": "markdown",
   "id": "19c5f8ea",
   "metadata": {},
   "source": [
    "Conditional statements allow you to execute code based on certain conditions. The if, elif, and else keywords are used to create conditional statements in Python. Let's create a simple function that tells you if a song is short, average, or long based on its duration:"
   ]
  },
  {
   "cell_type": "code",
   "execution_count": 14,
   "id": "6835c947",
   "metadata": {},
   "outputs": [
    {
     "name": "stdout",
     "output_type": "stream",
     "text": [
      "The song with a duration of 200 seconds is average.\n"
     ]
    }
   ],
   "source": [
    "def song_length(duration):\n",
    "    if duration < 180:\n",
    "        return \"short\"\n",
    "    elif duration >= 180 and duration < 300:\n",
    "        return \"average\"\n",
    "    else:\n",
    "        return \"long\"\n",
    "\n",
    "song_duration = 200\n",
    "song_length_description = song_length(song_duration)\n",
    "print(f\"The song with a duration of {song_duration} seconds is {song_length_description}.\")"
   ]
  },
  {
   "cell_type": "markdown",
   "id": "577b80b9",
   "metadata": {},
   "source": [
    "## 5. Loops\n",
    "Loops are used to repeat a block of code multiple times. In Python, you can use for loops to iterate over a sequence, like a list or a range of numbers. Let's iterate over the music_genres list and print each genre:"
   ]
  },
  {
   "cell_type": "code",
   "execution_count": 15,
   "id": "28917e71",
   "metadata": {},
   "outputs": [
    {
     "name": "stdout",
     "output_type": "stream",
     "text": [
      "Rock\n",
      "Pop\n",
      "Hip-Hop\n",
      "Jazz\n",
      "Classical\n"
     ]
    }
   ],
   "source": [
    "for genre in music_genres:\n",
    "    print(genre)"
   ]
  },
  {
   "cell_type": "markdown",
   "id": "e4666235",
   "metadata": {},
   "source": [
    "You can also use while loops to repeat code as long as a condition is true. Let's create a loop that prints the first five numbers of the Fibonacci sequence:"
   ]
  },
  {
   "cell_type": "code",
   "execution_count": 16,
   "id": "c3cc748d",
   "metadata": {},
   "outputs": [
    {
     "name": "stdout",
     "output_type": "stream",
     "text": [
      "First 5 numbers of the Fibonacci sequence:\n",
      "0\n",
      "1\n",
      "1\n",
      "2\n",
      "3\n"
     ]
    }
   ],
   "source": [
    "a, b = 0, 1\n",
    "count = 0\n",
    "\n",
    "print(\"First 5 numbers of the Fibonacci sequence:\")\n",
    "while count < 5:\n",
    "    print(a)\n",
    "    a, b = b, a + b\n",
    "    count += 1\n"
   ]
  },
  {
   "cell_type": "markdown",
   "id": "e1e1ce6b",
   "metadata": {},
   "source": [
    "These concepts form the foundation of programming in Python. Practice using variables, data structures, functions, conditional statements, and loops to become more comfortable with the language. Happy coding!"
   ]
  }
 ],
 "metadata": {
  "kernelspec": {
   "display_name": "Python 3 (ipykernel)",
   "language": "python",
   "name": "python3"
  },
  "language_info": {
   "codemirror_mode": {
    "name": "ipython",
    "version": 3
   },
   "file_extension": ".py",
   "mimetype": "text/x-python",
   "name": "python",
   "nbconvert_exporter": "python",
   "pygments_lexer": "ipython3",
   "version": "3.10.9"
  }
 },
 "nbformat": 4,
 "nbformat_minor": 5
}
